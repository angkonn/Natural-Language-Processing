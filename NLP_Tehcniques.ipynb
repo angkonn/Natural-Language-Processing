{
  "cells": [
    {
      "cell_type": "markdown",
      "metadata": {
        "id": "JY1_MY6zdP89"
      },
      "source": [
        "## Tokenization\n"
      ]
    },
    {
      "cell_type": "code",
      "execution_count": 1,
      "metadata": {},
      "outputs": [
        {
          "name": "stdout",
          "output_type": "stream",
          "text": [
            "Collecting nltkNote: you may need to restart the kernel to use updated packages.\n",
            "\n",
            "  Downloading nltk-3.9.1-py3-none-any.whl.metadata (2.9 kB)\n",
            "Collecting click (from nltk)\n",
            "  Downloading click-8.2.1-py3-none-any.whl.metadata (2.5 kB)\n",
            "Collecting joblib (from nltk)\n",
            "  Using cached joblib-1.5.1-py3-none-any.whl.metadata (5.6 kB)\n",
            "Collecting regex>=2021.8.3 (from nltk)\n",
            "  Downloading regex-2024.11.6-cp312-cp312-win_amd64.whl.metadata (41 kB)\n",
            "Requirement already satisfied: tqdm in c:\\users\\88018\\appdata\\roaming\\python\\python312\\site-packages (from nltk) (4.67.1)\n",
            "Requirement already satisfied: colorama in c:\\users\\88018\\appdata\\roaming\\python\\python312\\site-packages (from click->nltk) (0.4.6)\n",
            "Downloading nltk-3.9.1-py3-none-any.whl (1.5 MB)\n",
            "   ---------------------------------------- 0.0/1.5 MB ? eta -:--:--\n",
            "   ------ --------------------------------- 0.3/1.5 MB ? eta -:--:--\n",
            "   ------------- -------------------------- 0.5/1.5 MB 1.3 MB/s eta 0:00:01\n",
            "   ------------- -------------------------- 0.5/1.5 MB 1.3 MB/s eta 0:00:01\n",
            "   ---------------------------------- ----- 1.3/1.5 MB 1.4 MB/s eta 0:00:01\n",
            "   ---------------------------------------- 1.5/1.5 MB 1.3 MB/s eta 0:00:00\n",
            "Downloading regex-2024.11.6-cp312-cp312-win_amd64.whl (273 kB)\n",
            "Downloading click-8.2.1-py3-none-any.whl (102 kB)\n",
            "Using cached joblib-1.5.1-py3-none-any.whl (307 kB)\n",
            "Installing collected packages: regex, joblib, click, nltk\n",
            "\n",
            "   ---------------------------------------- 0/4 [regex]\n",
            "   ---------- ----------------------------- 1/4 [joblib]\n",
            "   ---------- ----------------------------- 1/4 [joblib]\n",
            "   ---------- ----------------------------- 1/4 [joblib]\n",
            "   ---------- ----------------------------- 1/4 [joblib]\n",
            "   ---------- ----------------------------- 1/4 [joblib]\n",
            "   ---------- ----------------------------- 1/4 [joblib]\n",
            "   ---------- ----------------------------- 1/4 [joblib]\n",
            "   ---------- ----------------------------- 1/4 [joblib]\n",
            "   -------------------- ------------------- 2/4 [click]\n",
            "   -------------------- ------------------- 2/4 [click]\n",
            "   ------------------------------ --------- 3/4 [nltk]\n",
            "   ------------------------------ --------- 3/4 [nltk]\n",
            "   ------------------------------ --------- 3/4 [nltk]\n",
            "   ------------------------------ --------- 3/4 [nltk]\n",
            "   ------------------------------ --------- 3/4 [nltk]\n",
            "   ------------------------------ --------- 3/4 [nltk]\n",
            "   ------------------------------ --------- 3/4 [nltk]\n",
            "   ------------------------------ --------- 3/4 [nltk]\n",
            "   ------------------------------ --------- 3/4 [nltk]\n",
            "   ------------------------------ --------- 3/4 [nltk]\n",
            "   ------------------------------ --------- 3/4 [nltk]\n",
            "   ------------------------------ --------- 3/4 [nltk]\n",
            "   ------------------------------ --------- 3/4 [nltk]\n",
            "   ------------------------------ --------- 3/4 [nltk]\n",
            "   ------------------------------ --------- 3/4 [nltk]\n",
            "   ------------------------------ --------- 3/4 [nltk]\n",
            "   ------------------------------ --------- 3/4 [nltk]\n",
            "   ------------------------------ --------- 3/4 [nltk]\n",
            "   ------------------------------ --------- 3/4 [nltk]\n",
            "   ------------------------------ --------- 3/4 [nltk]\n",
            "   ------------------------------ --------- 3/4 [nltk]\n",
            "   ------------------------------ --------- 3/4 [nltk]\n",
            "   ------------------------------ --------- 3/4 [nltk]\n",
            "   ------------------------------ --------- 3/4 [nltk]\n",
            "   ------------------------------ --------- 3/4 [nltk]\n",
            "   ------------------------------ --------- 3/4 [nltk]\n",
            "   ------------------------------ --------- 3/4 [nltk]\n",
            "   ------------------------------ --------- 3/4 [nltk]\n",
            "   ------------------------------ --------- 3/4 [nltk]\n",
            "   ------------------------------ --------- 3/4 [nltk]\n",
            "   ------------------------------ --------- 3/4 [nltk]\n",
            "   ------------------------------ --------- 3/4 [nltk]\n",
            "   ------------------------------ --------- 3/4 [nltk]\n",
            "   ------------------------------ --------- 3/4 [nltk]\n",
            "   ------------------------------ --------- 3/4 [nltk]\n",
            "   ------------------------------ --------- 3/4 [nltk]\n",
            "   ------------------------------ --------- 3/4 [nltk]\n",
            "   ------------------------------ --------- 3/4 [nltk]\n",
            "   ------------------------------ --------- 3/4 [nltk]\n",
            "   ------------------------------ --------- 3/4 [nltk]\n",
            "   ------------------------------ --------- 3/4 [nltk]\n",
            "   ------------------------------ --------- 3/4 [nltk]\n",
            "   ------------------------------ --------- 3/4 [nltk]\n",
            "   ------------------------------ --------- 3/4 [nltk]\n",
            "   ------------------------------ --------- 3/4 [nltk]\n",
            "   ---------------------------------------- 4/4 [nltk]\n",
            "\n",
            "Successfully installed click-8.2.1 joblib-1.5.1 nltk-3.9.1 regex-2024.11.6\n"
          ]
        },
        {
          "name": "stderr",
          "output_type": "stream",
          "text": [
            "[nltk_data] Downloading package punkt_tab to\n",
            "[nltk_data]     C:\\Users\\88018\\AppData\\Roaming\\nltk_data...\n",
            "[nltk_data]   Unzipping tokenizers\\punkt_tab.zip.\n"
          ]
        },
        {
          "data": {
            "text/plain": [
              "True"
            ]
          },
          "execution_count": 1,
          "metadata": {},
          "output_type": "execute_result"
        }
      ],
      "source": [
        "%pip install nltk\n",
        "import nltk\n",
        "nltk.download('punkt_tab')"
      ]
    },
    {
      "cell_type": "code",
      "execution_count": 2,
      "metadata": {
        "colab": {
          "base_uri": "https://localhost:8080/"
        },
        "id": "dEWuftE1cE9a",
        "outputId": "ca4f31ac-dd9f-467e-bc37-cdcd823dc755"
      },
      "outputs": [
        {
          "name": "stdout",
          "output_type": "stream",
          "text": [
            "Sent Tokenize output:['Hi John, How are you doing?', 'I will be travelling to your city.', 'Lets catchup']\n",
            "Word Tokenize output:['Hi', 'John', ',', 'How', 'are', 'you', 'doing', '?', 'I', 'will', 'be', 'travelling', 'to', 'your', 'city', '.', 'Lets', 'catchup']\n"
          ]
        }
      ],
      "source": [
        "from nltk.tokenize import sent_tokenize, word_tokenize\n",
        "\n",
        "\n",
        "text = \"Hi John, How are you doing? I will be travelling to your city. Lets catchup\"\n",
        "\n",
        "print(f\"Sent Tokenize output:{sent_tokenize(text)}\")\n",
        "print(f\"Word Tokenize output:{word_tokenize(text)}\")"
      ]
    },
    {
      "cell_type": "markdown",
      "metadata": {
        "id": "sswowkFycJQ1"
      },
      "source": [
        "## Stemming"
      ]
    },
    {
      "cell_type": "code",
      "execution_count": 4,
      "metadata": {
        "colab": {
          "base_uri": "https://localhost:8080/"
        },
        "id": "XAGh-Aw9cJOF",
        "outputId": "5fa1a3ea-5ac3-48fb-8455-f61db9225eef"
      },
      "outputs": [
        {
          "name": "stdout",
          "output_type": "stream",
          "text": [
            "play\n",
            "play\n",
            "play\n"
          ]
        }
      ],
      "source": [
        "from nltk.stem import PorterStemmer\n",
        "\n",
        "stemmer = PorterStemmer()\n",
        "print(stemmer.stem(\"playing\"))\n",
        "print(stemmer.stem(\"plays\"))\n",
        "print(stemmer.stem(\"played\"))"
      ]
    },
    {
      "cell_type": "code",
      "execution_count": null,
      "metadata": {
        "id": "kyFRcM3ycJK-"
      },
      "outputs": [],
      "source": []
    },
    {
      "cell_type": "code",
      "execution_count": null,
      "metadata": {
        "id": "tfhRMFe7dUa9"
      },
      "outputs": [],
      "source": []
    },
    {
      "cell_type": "code",
      "execution_count": null,
      "metadata": {
        "id": "Sw899MHPdUYO"
      },
      "outputs": [],
      "source": []
    },
    {
      "cell_type": "code",
      "execution_count": null,
      "metadata": {
        "id": "1dbuxWOadUVk"
      },
      "outputs": [],
      "source": []
    }
  ],
  "metadata": {
    "colab": {
      "provenance": []
    },
    "kernelspec": {
      "display_name": "Python 3",
      "name": "python3"
    },
    "language_info": {
      "codemirror_mode": {
        "name": "ipython",
        "version": 3
      },
      "file_extension": ".py",
      "mimetype": "text/x-python",
      "name": "python",
      "nbconvert_exporter": "python",
      "pygments_lexer": "ipython3",
      "version": "3.12.7"
    }
  },
  "nbformat": 4,
  "nbformat_minor": 0
}
